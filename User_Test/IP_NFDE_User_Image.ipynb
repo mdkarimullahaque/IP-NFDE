{
  "nbformat": 4,
  "nbformat_minor": 0,
  "metadata": {
    "colab": {
      "provenance": [],
      "gpuType": "T4",
      "authorship_tag": "ABX9TyObPrmDwZYtGmHNr0ULCh3S",
      "include_colab_link": true
    },
    "kernelspec": {
      "name": "python3",
      "display_name": "Python 3"
    },
    "language_info": {
      "name": "python"
    },
    "accelerator": "GPU"
  },
  "cells": [
    {
      "cell_type": "markdown",
      "metadata": {
        "id": "view-in-github",
        "colab_type": "text"
      },
      "source": [
        "<a href=\"https://colab.research.google.com/github/mdkarimullahaque/IP-NFDE/blob/main/IP_NFDE_User_Image.ipynb\" target=\"_parent\"><img src=\"https://colab.research.google.com/assets/colab-badge.svg\" alt=\"Open In Colab\"/></a>"
      ]
    },
    {
      "cell_type": "markdown",
      "source": [
        "# Change the runtime type from CPU to T4 GPU to get in less time."
      ],
      "metadata": {
        "id": "TYseoOfS5_Wt"
      }
    },
    {
      "cell_type": "markdown",
      "source": [
        "# 📦 STEP 1: Install dependencies"
      ],
      "metadata": {
        "id": "k8PaDTWF5UbC"
      }
    },
    {
      "cell_type": "code",
      "source": [
        "!pip install bm3d torch torchvision matplotlib scikit-image ipywidgets --quiet"
      ],
      "metadata": {
        "id": "owEpBefwEl6t"
      },
      "execution_count": null,
      "outputs": []
    },
    {
      "cell_type": "markdown",
      "source": [
        "# 🧱 STEP 2: Clone SwinIR repo (contains required model architecture and weights)"
      ],
      "metadata": {
        "id": "RrnWevu05Y6j"
      }
    },
    {
      "cell_type": "code",
      "source": [
        "!git clone https://github.com/JingyunLiang/SwinIR.git\n",
        "%cd SwinIR\n",
        "!wget https://github.com/JingyunLiang/SwinIR/releases/download/v0.0/004_grayDN_DFWB_s128w8_SwinIR-M_noise25.pth -P model_zoo/swinir\n",
        "%cd .."
      ],
      "metadata": {
        "id": "Y96HnG1u5bRW"
      },
      "execution_count": null,
      "outputs": []
    },
    {
      "cell_type": "markdown",
      "source": [
        "# 📤 STEP 3: Upload your original image"
      ],
      "metadata": {
        "id": "EpXVabDL5pjb"
      }
    },
    {
      "cell_type": "code",
      "source": [
        "from google.colab import files\n",
        "from PIL import Image\n",
        "import numpy as np\n",
        "\n",
        "uploaded = files.upload()\n",
        "image_path = list(uploaded.keys())[0]\n",
        "u = np.array(Image.open(image_path).convert('L'), dtype=np.float32)/255."
      ],
      "metadata": {
        "id": "PjcGpb3w5sr0"
      },
      "execution_count": null,
      "outputs": []
    },
    {
      "cell_type": "markdown",
      "source": [
        "# 🔘 STEP 4: Select noise level using slider"
      ],
      "metadata": {
        "id": "EtcH8DDX8OAq"
      }
    },
    {
      "cell_type": "code",
      "source": [
        "import ipywidgets as widgets\n",
        "from IPython.display import display\n",
        "\n",
        "noise_slider = widgets.IntSlider(value=1, min=1, max=10, step=1, description='Noise Level (L)')\n",
        "display(noise_slider)\n"
      ],
      "metadata": {
        "id": "tw0C5GgI8Nr2"
      },
      "execution_count": null,
      "outputs": []
    },
    {
      "cell_type": "markdown",
      "source": [
        "# 💥 STEP 5: Define denoising functions"
      ],
      "metadata": {
        "id": "2HfsgWEy5yee"
      }
    },
    {
      "cell_type": "code",
      "source": [
        "import os, sys\n",
        "import torch, torch.nn as nn, torch.optim as optim\n",
        "import matplotlib.pyplot as plt\n",
        "from scipy.ndimage import gaussian_filter\n",
        "from scipy.special import gamma\n",
        "from skimage.metrics import structural_similarity\n",
        "from torchvision.transforms import ToTensor\n",
        "\n",
        "def psnr(u, u0):\n",
        "    I, J = u.shape\n",
        "    diff = u - u0\n",
        "    l2_squared = np.sum(diff ** 2)\n",
        "    dynamic_range_sq = (np.max(u0) - np.min(u0)) ** 2\n",
        "    return 10 * np.log10(dynamic_range_sq * I * J / l2_squared)\n",
        "\n",
        "def compute_gradients(u):\n",
        "    gradN = np.roll(u, -1, 0) - u\n",
        "    gradS = np.roll(u, 1, 0) - u\n",
        "    gradE = np.roll(u, -1, 1) - u\n",
        "    gradW = np.roll(u, 1, 1) - u\n",
        "    return gradN, gradS, gradE, gradW\n",
        "\n",
        "def diffusion_coefficient(grad_dir_Gu, grad_dir_ut, v, lam, beta):\n",
        "    return 1.0 / (1 + v * lam * np.abs(grad_dir_Gu)**beta + v * (1-lam) * np.abs(grad_dir_ut)**beta)\n",
        "\n",
        "def ip_nde_denoising(f, u_tilde, alpha=1.3, beta=1.4, lam=0.1, v=1.0, sigma=0.9, T=20, tau=0.2, beta_c=0.95):\n",
        "    u_hist = [f.copy(), f.copy()]\n",
        "    b = [1.0] + [((k+1)**(1-beta_c) - k**(1-beta_c)) for k in range(1, T+1)]\n",
        "    b0, g = b[0], gamma(2-beta_c)\n",
        "    u = f.copy()\n",
        "    for n in range(1, T+1):\n",
        "        u_prev = u_hist[-1]\n",
        "        Gun = gaussian_filter(u_prev, sigma=sigma)\n",
        "        a = np.clip(Gun / (np.max(Gun)+1e-8), 1e-8, None)**alpha\n",
        "        gradN_u, gradS_u, gradE_u, gradW_u = compute_gradients(u_prev)\n",
        "        gradN_Gu, gradS_Gu, gradE_Gu, gradW_Gu = compute_gradients(Gun)\n",
        "        gradN_ut, gradS_ut, gradE_ut, gradW_ut = compute_gradients(u_tilde)\n",
        "        CN = diffusion_coefficient(gradN_Gu, gradN_ut, v, lam, beta)\n",
        "        CS = diffusion_coefficient(gradS_Gu, gradS_ut, v, lam, beta)\n",
        "        CE = diffusion_coefficient(gradE_Gu, gradE_ut, v, lam, beta)\n",
        "        CW = diffusion_coefficient(gradW_Gu, gradW_ut, v, lam, beta)\n",
        "        div = CN*gradN_u + CS*gradS_u + CE*gradE_u + CW*gradW_u\n",
        "        frac_sum = np.zeros_like(u)\n",
        "        for s in range(1, min(n, len(b))):\n",
        "            u_n1s = u_hist[-s]\n",
        "            u_ns  = u_hist[-(s+1)]\n",
        "            frac_sum += b[s]*(u_n1s - u_ns)\n",
        "        u_next = u_prev - (1/b0)*(frac_sum - (tau**beta_c)*div*g)\n",
        "        u_next[0,:], u_next[-1,:] = u_next[1,:], u_next[-2,:]\n",
        "        u_next[:,0], u_next[:,-1] = u_next[:,1], u_next[:,-2]\n",
        "        u_hist.append(u_next)\n",
        "        u = u_next\n",
        "    return u\n",
        "\n",
        "class DIPNet(nn.Module):\n",
        "    def __init__(self, input_channels=32, output_channels=1, features=64):\n",
        "        super().__init__()\n",
        "        self.encoder = nn.Sequential(\n",
        "            nn.Conv2d(input_channels, features, 3, padding=1), nn.ReLU(),\n",
        "            nn.Conv2d(features, features, 3, padding=1), nn.ReLU()\n",
        "        )\n",
        "        self.middle = nn.Sequential(\n",
        "            nn.Conv2d(features, features, 3, padding=1), nn.ReLU()\n",
        "        )\n",
        "        self.decoder = nn.Sequential(\n",
        "            nn.Conv2d(features, features, 3, padding=1), nn.ReLU(),\n",
        "            nn.Conv2d(features, output_channels, 3, padding=1), nn.Sigmoid()\n",
        "        )\n",
        "    def forward(self, x):\n",
        "        return self.decoder(self.middle(self.encoder(x)))\n",
        "\n",
        "def get_dip_prior(f, num_iter=100, lr=1e-3, depth=32):\n",
        "    device = torch.device('cuda' if torch.cuda.is_available() else 'cpu')\n",
        "    net = DIPNet(input_channels=depth).to(device)\n",
        "    opt = optim.Adam(net.parameters(), lr=lr)\n",
        "    noise = torch.randn(1, depth, *f.shape, device=device)\n",
        "    target = torch.tensor(f[None, None], dtype=torch.float32, device=device)\n",
        "    best = None; best_loss = 1e9\n",
        "    for _ in range(num_iter):\n",
        "        opt.zero_grad()\n",
        "        out = net(noise)\n",
        "        loss = nn.functional.mse_loss(out, target)\n",
        "        loss.backward(); opt.step()\n",
        "        if loss.item() < best_loss:\n",
        "            best_loss = loss.item(); best = out.detach()\n",
        "    return best.squeeze().cpu().numpy()\n",
        "\n",
        "def load_swinir_model():\n",
        "    swinir_path = os.path.abspath(\"SwinIR\")\n",
        "    if swinir_path not in sys.path:\n",
        "        sys.path.append(swinir_path)\n",
        "    from models.network_swinir import SwinIR as net\n",
        "    model = net(\n",
        "        upscale=1,\n",
        "        in_chans=1,\n",
        "        img_size=128,\n",
        "        window_size=8,\n",
        "        img_range=1.0,\n",
        "        depths=[6, 6, 6, 6, 6, 6],\n",
        "        embed_dim=180,\n",
        "        num_heads=[6, 6, 6, 6, 6, 6],\n",
        "        mlp_ratio=2,\n",
        "        upsampler='',\n",
        "        resi_connection='1conv'\n",
        "    )\n",
        "    ckpt_path = os.path.join(swinir_path, 'model_zoo/swinir/004_grayDN_DFWB_s128w8_SwinIR-M_noise25.pth')\n",
        "    state = torch.load(ckpt_path, map_location='cpu')\n",
        "    if 'params' in state:\n",
        "        state = state['params']\n",
        "    model.load_state_dict(state, strict=True)\n",
        "    model.eval()\n",
        "    return model.to(torch.device('cuda' if torch.cuda.is_available() else 'cpu'))\n",
        "\n",
        "def get_swinir_prior(f, model):\n",
        "    img = ToTensor()(f).unsqueeze(0).to(next(model.parameters()).device)\n",
        "    img = img.float()\n",
        "    with torch.no_grad():\n",
        "        out = model(img)\n",
        "    return out.squeeze().cpu().numpy()\n",
        "\n",
        "def add_gamma_speckle_noise(u, L=1):\n",
        "    eta = np.random.gamma(shape=L, scale=1.0 / L, size=u.shape)\n",
        "    return u * eta\n"
      ],
      "metadata": {
        "id": "b4KYgtzj8fCG"
      },
      "execution_count": 8,
      "outputs": []
    },
    {
      "cell_type": "markdown",
      "source": [
        "# 🎯 STEP 6: Run IP-NFDE + DIP and IP-NFDE + SwinIR"
      ],
      "metadata": {
        "id": "ms5BVlmL7ZuC"
      }
    },
    {
      "cell_type": "code",
      "source": [
        "L = noise_slider.value\n",
        "print(f\"Adding Gamma Speckle Noise with L = {L} ...\")\n",
        "f = add_gamma_speckle_noise(u, L=L)\n",
        "\n",
        "print(\"Running DIP...\")\n",
        "u_tilde_dip = get_dip_prior(f)\n",
        "\n",
        "print(\"Loading SwinIR...\")\n",
        "swin_model = load_swinir_model()\n",
        "print(\"Running SwinIR...\")\n",
        "u_tilde_swin = get_swinir_prior(f, swin_model)\n",
        "\n",
        "params = dict(alpha=1.3, beta=1.4, lam=0.1, sigma=0.9, v=1.0, T=20, tau=0.2)\n",
        "print(\"Denoising with IP-NFDE + DIP...\")\n",
        "out_dip = ip_nde_denoising(f, u_tilde_dip, **params)\n",
        "print(\"Denoising with IP-NFDE + SwinIR...\")\n",
        "out_swin = ip_nde_denoising(f, u_tilde_swin, **params)"
      ],
      "metadata": {
        "id": "Ye6dazch7Zfa"
      },
      "execution_count": null,
      "outputs": []
    },
    {
      "cell_type": "markdown",
      "source": [
        "# 📊 STEP 7: Visualize"
      ],
      "metadata": {
        "id": "GqLC2Ehz7kcv"
      }
    },
    {
      "cell_type": "code",
      "source": [
        "from skimage.metrics import structural_similarity as ssim\n",
        "print(\"\\n|       Method      | PSNR  |  SSIM  |\")\n",
        "print(\"|-------------------|-------|--------|\")\n",
        "print(f\"|       Noisy       | {psnr(f, u):.2f} | {ssim(u, f, data_range=1.0):.4f} |\")\n",
        "print(f\"|   IP-NFDE + DIP   | {psnr(out_dip, u):.2f} | {ssim(u, out_dip, data_range=1.0):.4f} |\")\n",
        "print(f\"|  IP-NFDE + SwinIR | {psnr(out_swin, u):.2f} | {ssim(u, out_swin, data_range=1.0):.4f} |\")\n",
        "\n",
        "fig, axs = plt.subplots(2, 3, figsize=(15, 10))\n",
        "axs[0,0].imshow(u, cmap='gray'); axs[0,0].set_title(\"Clean\")\n",
        "axs[0,1].imshow(f, cmap='gray'); axs[0,1].set_title(f\"Noisy (L={L})\")\n",
        "axs[0,2].axis('off')\n",
        "axs[1,0].imshow(out_dip, cmap='gray'); axs[1,0].set_title(\"IP-NFDE + DIP\")\n",
        "axs[1,1].imshow(out_swin, cmap='gray'); axs[1,1].set_title(\"IP-NFDE + SwinIR\")\n",
        "axs[1,2].axis('off')\n",
        "for ax in axs.flatten(): ax.axis('off')\n",
        "plt.tight_layout(); plt.show()"
      ],
      "metadata": {
        "id": "tErGtJO87kpD"
      },
      "execution_count": null,
      "outputs": []
    }
  ]
}
