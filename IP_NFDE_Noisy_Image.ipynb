{
  "cells": [
    {
      "cell_type": "markdown",
      "metadata": {
        "id": "view-in-github",
        "colab_type": "text"
      },
      "source": [
        "<a href=\"https://colab.research.google.com/github/mdkarimullahaque/IP-NFDE/blob/main/IP_NFDE_Noisy_Image.ipynb\" target=\"_parent\"><img src=\"https://colab.research.google.com/assets/colab-badge.svg\" alt=\"Open In Colab\"/></a>"
      ]
    },
    {
      "cell_type": "markdown",
      "metadata": {
        "id": "qs1uWXeLJBQU"
      },
      "source": [
        "# Change the runtime type from CPU to T4 GPU to get in less time."
      ]
    },
    {
      "cell_type": "markdown",
      "metadata": {
        "id": "FphXMTyCJEy9"
      },
      "source": [
        "# 📦 STEP 1: Install dependencies"
      ]
    },
    {
      "cell_type": "code",
      "execution_count": null,
      "metadata": {
        "id": "DQ4_ZqnLJEbf"
      },
      "outputs": [],
      "source": [
        "!pip install bm3d torch torchvision matplotlib scikit-image ipywidgets --quiet"
      ]
    },
    {
      "cell_type": "markdown",
      "metadata": {
        "id": "sNAIQiMFJHuL"
      },
      "source": [
        "# 🧱 STEP 2: Clone SwinIR repo (contains required model architecture and weights)\n"
      ]
    },
    {
      "cell_type": "code",
      "execution_count": null,
      "metadata": {
        "id": "zf8902_aJBB6"
      },
      "outputs": [],
      "source": [
        "!git clone https://github.com/JingyunLiang/SwinIR.git\n",
        "%cd SwinIR\n",
        "!wget https://github.com/JingyunLiang/SwinIR/releases/download/v0.0/004_grayDN_DFWB_s128w8_SwinIR-M_noise25.pth -P model_zoo/swinir\n",
        "%cd .."
      ]
    },
    {
      "cell_type": "markdown",
      "metadata": {
        "id": "QBcW5lVPJLk1"
      },
      "source": [
        "# 📤 STEP 3: Upload your noisy image"
      ]
    },
    {
      "cell_type": "code",
      "execution_count": null,
      "metadata": {
        "id": "x2VW6X1MIor4"
      },
      "outputs": [],
      "source": [
        "from google.colab import files\n",
        "from PIL import Image\n",
        "import numpy as np\n",
        "\n",
        "uploaded = files.upload()\n",
        "image_path = list(uploaded.keys())[0]\n",
        "u_noisy = np.array(Image.open(image_path).convert('L'), dtype=np.float32) / 255.\n"
      ]
    },
    {
      "cell_type": "markdown",
      "metadata": {
        "id": "y94zBD74JWaI"
      },
      "source": [
        "# 💥 STEP 4: Define denoising functions"
      ]
    },
    {
      "cell_type": "code",
      "execution_count": null,
      "metadata": {
        "id": "gK_axusdJZY4"
      },
      "outputs": [],
      "source": [
        "import os, sys\n",
        "import torch, torch.nn as nn, torch.optim as optim\n",
        "import matplotlib.pyplot as plt\n",
        "from scipy.ndimage import gaussian_filter\n",
        "from scipy.special import gamma\n",
        "from skimage.metrics import structural_similarity as ssim\n",
        "from torchvision.transforms import ToTensor\n",
        "import numpy as np\n",
        "import math\n",
        "\n",
        "\n",
        "def psnr(u, u0):\n",
        "    I, J = u.shape\n",
        "    diff = u - u0\n",
        "    l2_squared = np.sum(diff ** 2)\n",
        "    dynamic_range_sq = (np.max(u0) - np.min(u0)) ** 2\n",
        "    return 10 * np.log10(dynamic_range_sq * I * J / (l2_squared + 1e-8))\n",
        "\n",
        "def compute_gradients(u):\n",
        "    gradN = np.roll(u, -1, 0) - u\n",
        "    gradS = np.roll(u, 1, 0) - u\n",
        "    gradE = np.roll(u, -1, 1) - u\n",
        "    gradW = np.roll(u, 1, 1) - u\n",
        "    return gradN, gradS, gradE, gradW\n",
        "\n",
        "def diffusion_coefficient(grad_dir_Gu, grad_dir_ut, v, lam, beta):\n",
        "    return 1.0 / (1 + v * lam * np.abs(grad_dir_Gu)**beta + v * (1-lam) * np.abs(grad_dir_ut)**beta)\n",
        "\n",
        "def ip_nde_denoising(f, u_tilde, alpha=1.3, beta=1.4, lam=0.1, v=1.0, sigma=0.9, T=20, tau=0.2, beta_c=0.95):\n",
        "    u_hist = [f.copy(), f.copy()]\n",
        "    b = [1.0] + [((k+1)**(1-beta_c) - k**(1-beta_c)) for k in range(1, T+1)]\n",
        "    b0, g = b[0], gamma(2-beta_c)\n",
        "    u = f.copy()\n",
        "    for n in range(1, T+1):\n",
        "        u_prev = u_hist[-1]\n",
        "        Gun = gaussian_filter(u_prev, sigma=sigma)\n",
        "        a = np.clip(Gun / (np.max(Gun)+1e-8), 1e-8, None)**alpha\n",
        "        gradN_u, gradS_u, gradE_u, gradW_u = compute_gradients(u_prev)\n",
        "        gradN_Gu, gradS_Gu, gradE_Gu, gradW_Gu = compute_gradients(Gun)\n",
        "        gradN_ut, gradS_ut, gradE_ut, gradW_ut = compute_gradients(u_tilde)\n",
        "        CN = diffusion_coefficient(gradN_Gu, gradN_ut, v, lam, beta)\n",
        "        CS = diffusion_coefficient(gradS_Gu, gradS_ut, v, lam, beta)\n",
        "        CE = diffusion_coefficient(gradE_Gu, gradE_ut, v, lam, beta)\n",
        "        CW = diffusion_coefficient(gradW_Gu, gradW_ut, v, lam, beta)\n",
        "        div = CN*gradN_u + CS*gradS_u + CE*gradE_u + CW*gradW_u\n",
        "        frac_sum = np.zeros_like(u)\n",
        "        for s in range(1, min(n, len(b))):\n",
        "            u_n1s = u_hist[-s]\n",
        "            u_ns  = u_hist[-(s+1)]\n",
        "            frac_sum += b[s]*(u_n1s - u_ns)\n",
        "        u_next = u_prev - (1/b0)*(frac_sum - (tau**beta_c)*div*g)\n",
        "        u_next[0,:], u_next[-1,:] = u_next[1,:], u_next[-2,:]\n",
        "        u_next[:,0], u_next[:,-1] = u_next[:,1], u_next[:,-2]\n",
        "        u_hist.append(u_next)\n",
        "        u = u_next\n",
        "    return u\n",
        "\n",
        "class DIPNet(nn.Module):\n",
        "    def __init__(self, input_channels=32, output_channels=1, features=64):\n",
        "        super().__init__()\n",
        "        self.encoder = nn.Sequential(\n",
        "            nn.Conv2d(input_channels, features, 3, padding=1), nn.ReLU(),\n",
        "            nn.Conv2d(features, features, 3, padding=1), nn.ReLU()\n",
        "        )\n",
        "        self.middle = nn.Sequential(\n",
        "            nn.Conv2d(features, features, 3, padding=1), nn.ReLU()\n",
        "        )\n",
        "        self.decoder = nn.Sequential(\n",
        "            nn.Conv2d(features, features, 3, padding=1), nn.ReLU(),\n",
        "            nn.Conv2d(features, output_channels, 3, padding=1), nn.Sigmoid()\n",
        "        )\n",
        "    def forward(self, x):\n",
        "        return self.decoder(self.middle(self.encoder(x)))\n",
        "\n",
        "def get_dip_prior(f, num_iter=100, lr=1e-3, depth=32):\n",
        "    device = torch.device('cuda' if torch.cuda.is_available() else 'cpu')\n",
        "    net = DIPNet(input_channels=depth).to(device)\n",
        "    opt = optim.Adam(net.parameters(), lr=lr)\n",
        "    noise = torch.randn(1, depth, *f.shape, device=device)\n",
        "    target = torch.tensor(f[None, None], dtype=torch.float32, device=device)\n",
        "    best = None; best_loss = 1e9\n",
        "    for _ in range(num_iter):\n",
        "        opt.zero_grad()\n",
        "        out = net(noise)\n",
        "        loss = nn.functional.mse_loss(out, target)\n",
        "        loss.backward(); opt.step()\n",
        "        if loss.item() < best_loss:\n",
        "            best_loss = loss.item(); best = out.detach()\n",
        "    return best.squeeze().cpu().numpy()\n",
        "\n",
        "def load_swinir_model():\n",
        "    swinir_path = os.path.abspath(\"SwinIR\")\n",
        "    if swinir_path not in sys.path:\n",
        "        sys.path.append(swinir_path)\n",
        "    from models.network_swinir import SwinIR as net\n",
        "    model = net(\n",
        "        upscale=1,\n",
        "        in_chans=1,\n",
        "        img_size=128,\n",
        "        window_size=8,\n",
        "        img_range=1.0,\n",
        "        depths=[6, 6, 6, 6, 6, 6],\n",
        "        embed_dim=180,\n",
        "        num_heads=[6, 6, 6, 6, 6, 6],\n",
        "        mlp_ratio=2,\n",
        "        upsampler='',\n",
        "        resi_connection='1conv'\n",
        "    )\n",
        "    ckpt_path = os.path.join(swinir_path, 'model_zoo/swinir/004_grayDN_DFWB_s128w8_SwinIR-M_noise25.pth')\n",
        "    state = torch.load(ckpt_path, map_location='cpu')\n",
        "    if 'params' in state:\n",
        "        state = state['params']\n",
        "    model.load_state_dict(state, strict=True)\n",
        "    model.eval()\n",
        "    return model.to(torch.device('cuda' if torch.cuda.is_available() else 'cpu'))\n",
        "\n",
        "def get_swinir_prior(f, model, patch_size=128, overlap=20):\n",
        "    device = torch.device('cuda' if torch.cuda.is_available() else 'cpu')\n",
        "    h, w = f.shape\n",
        "    output = np.zeros_like(f)\n",
        "    counts = np.zeros_like(f)\n",
        "\n",
        "    # Pad image to be divisible by patch size - overlap\n",
        "    pad_h = (math.ceil((h - overlap) / (patch_size - overlap)) * (patch_size - overlap) + overlap) - h\n",
        "    pad_w = (math.ceil((w - overlap) / (patch_size - overlap)) * (patch_size - overlap) + overlap) - w\n",
        "    f_padded = np.pad(f, ((0, pad_h), (0, pad_w)), mode='reflect')\n",
        "\n",
        "    h_padded, w_padded = f_padded.shape\n",
        "\n",
        "    for i in range(0, h_padded - patch_size + 1, patch_size - overlap):\n",
        "        for j in range(0, w_padded - patch_size + 1, patch_size - overlap):\n",
        "            patch = f_padded[i:i+patch_size, j:j+patch_size]\n",
        "            img = ToTensor()(patch).unsqueeze(0).to(device)\n",
        "            img = img.float()\n",
        "            with torch.no_grad():\n",
        "                out = model(img)\n",
        "            out_patch = out.squeeze().cpu().numpy()\n",
        "\n",
        "            # Calculate the coordinates in the original image before padding\n",
        "            original_i = i\n",
        "            original_j = j\n",
        "            end_i = min(original_i + patch_size, h)\n",
        "            end_j = min(original_j + patch_size, w)\n",
        "\n",
        "            # Add the processed patch to the corresponding location in the output array\n",
        "            output[original_i:end_i, original_j:end_j] += out_patch[:end_i-original_i, :end_j-original_j]\n",
        "            counts[original_i:end_i, original_j:end_j] += 1\n",
        "\n",
        "    # Average overlapping regions\n",
        "    output /= counts\n",
        "\n",
        "    return output"
      ]
    },
    {
      "cell_type": "markdown",
      "metadata": {
        "id": "ypfUNjAEJiy6"
      },
      "source": [
        "# 🚀 STEP 5: Run IP-NFDE + DIP and IP-NFDE + SwinIR"
      ]
    },
    {
      "cell_type": "code",
      "execution_count": null,
      "metadata": {
        "id": "un5OmktxJlJf"
      },
      "outputs": [],
      "source": [
        "f = u_noisy\n",
        "\n",
        "print(\"Running DIP...\")\n",
        "u_tilde_dip = get_dip_prior(f)\n",
        "\n",
        "print(\"Loading SwinIR...\")\n",
        "swin_model = load_swinir_model()\n",
        "print(\"Running SwinIR...\")\n",
        "u_tilde_swin = get_swinir_prior(f, swin_model)\n",
        "\n",
        "params = dict(alpha=1.3, beta=1.4, lam=0.1, sigma=0.9, v=1.0, T=20, tau=0.2)\n",
        "print(\"Denoising with IP-NFDE + DIP...\")\n",
        "out_dip = ip_nde_denoising(f, u_tilde_dip, **params)\n",
        "print(\"Denoising with IP-NFDE + SwinIR...\")\n",
        "out_swin = ip_nde_denoising(f, u_tilde_swin, **params)\n"
      ]
    },
    {
      "cell_type": "markdown",
      "metadata": {
        "id": "NfwpXeJfJtqk"
      },
      "source": [
        "# 📊 STEP 6: Visualize"
      ]
    },
    {
      "cell_type": "code",
      "execution_count": null,
      "metadata": {
        "id": "Pe_hTGBMJuM0"
      },
      "outputs": [],
      "source": [
        "from skimage.metrics import structural_similarity as ssim\n",
        "print(\"\\n|       Method      | PSNR  |  SSIM  |\")\n",
        "print(\"|-------------------|-------|--------|\")\n",
        "print(f\"|    Noisy Input    |  100  | {ssim(f, f, data_range=1.0):.4f} |\")\n",
        "print(f\"|   IP-NFDE + DIP   | {psnr(out_dip, f):.2f} | {ssim(f, out_dip, data_range=1.0):.4f} |\")\n",
        "print(f\"|  IP-NFDE + SwinIR | {psnr(out_swin, f):.2f} | {ssim(f, out_swin, data_range=1.0):.4f} |\")\n",
        "\n",
        "fig, axs = plt.subplots(2, 3, figsize=(15, 10))\n",
        "axs[0,0].imshow(f, cmap='gray'); axs[0,0].set_title(f\"Noisy Input\")\n",
        "axs[0,2].axis('off')\n",
        "axs[1,0].imshow(out_dip, cmap='gray'); axs[1,0].set_title(\"IP-NFDE + DIP\")\n",
        "axs[1,1].imshow(out_swin, cmap='gray'); axs[1,1].set_title(\"IP-NFDE + SwinIR\")\n",
        "axs[1,2].axis('off')\n",
        "for ax in axs.flatten(): ax.axis('off')\n",
        "plt.tight_layout(); plt.show()"
      ]
    }
  ],
  "metadata": {
    "accelerator": "GPU",
    "colab": {
      "gpuType": "T4",
      "provenance": [],
      "name": "IP-NFDE_Noisy_Image.ipynb",
      "authorship_tag": "ABX9TyORBdjC2xnh7ONDMqDG1v5y",
      "include_colab_link": true
    },
    "kernelspec": {
      "display_name": "Python 3",
      "name": "python3"
    },
    "language_info": {
      "name": "python"
    }
  },
  "nbformat": 4,
  "nbformat_minor": 0
}